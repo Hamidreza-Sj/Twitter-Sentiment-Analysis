{
 "cells": [
  {
   "cell_type": "code",
   "execution_count": 18,
   "metadata": {},
   "outputs": [
    {
     "name": "stderr",
     "output_type": "stream",
     "text": [
      "[nltk_data] Downloading package stopwords to C:\\nltk_data...\n",
      "[nltk_data]   Package stopwords is already up-to-date!\n"
     ]
    }
   ],
   "source": [
    "import numpy as np\n",
    "import pandas as pd\n",
    "import os\n",
    "from sklearn.feature_extraction.text import CountVectorizer\n",
    "from sklearn.model_selection import train_test_split\n",
    "from sklearn.linear_model import LogisticRegression\n",
    "from sklearn.metrics import accuracy_score\n",
    "from sklearn.preprocessing import LabelEncoder\n",
    "import re\n",
    "import nltk\n",
    "from nltk import word_tokenize\n",
    "nltk.download('stopwords')\n",
    "import string\n",
    "import emoji\n",
    "from nltk.corpus import stopwords\n",
    "import ssl\n",
    "from imblearn.over_sampling import SMOTE\n",
    "from sklearn.svm import LinearSVC"
   ]
  },
  {
   "cell_type": "code",
   "execution_count": 2,
   "metadata": {},
   "outputs": [
    {
     "name": "stderr",
     "output_type": "stream",
     "text": [
      "[nltk_data] Downloading package punkt_tab to C:\\nltk_data...\n",
      "[nltk_data]   Package punkt_tab is already up-to-date!\n",
      "[nltk_data] Downloading package punkt to C:\\nltk_data...\n",
      "[nltk_data]   Package punkt is already up-to-date!\n",
      "[nltk_data] Downloading package perluniprops to C:\\nltk_data...\n",
      "[nltk_data]   Package perluniprops is already up-to-date!\n",
      "[nltk_data] Downloading package universal_tagset to C:\\nltk_data...\n",
      "[nltk_data]   Package universal_tagset is already up-to-date!\n",
      "[nltk_data] Downloading package stopwords to C:\\nltk_data...\n",
      "[nltk_data]   Package stopwords is already up-to-date!\n"
     ]
    }
   ],
   "source": [
    "# Handle SSL certificate verification\n",
    "try:\n",
    "    _create_unverified_https_context = ssl._create_unverified_context\n",
    "except AttributeError:\n",
    "    pass\n",
    "else:\n",
    "    ssl._create_default_https_context = _create_unverified_https_context\n",
    "\n",
    "# Download ALL necessary resources in one go\n",
    "nltk.download('punkt_tab')\n",
    "nltk.download('punkt')\n",
    "nltk.download('perluniprops')\n",
    "nltk.download('universal_tagset')\n",
    "nltk.download('stopwords')\n",
    "\n",
    "# Clear the NLTK cache\n",
    "nltk.data.clear_cache()"
   ]
  },
  {
   "cell_type": "code",
   "execution_count": 3,
   "metadata": {},
   "outputs": [],
   "source": [
    "train_data = pd.read_csv('./dataset/twitter_training.csv', header=None)\n",
    "val_data = pd.read_csv('./dataset/twitter_validation.csv', header=None)"
   ]
  },
  {
   "cell_type": "code",
   "execution_count": 4,
   "metadata": {},
   "outputs": [
    {
     "data": {
      "text/html": [
       "<div>\n",
       "<style scoped>\n",
       "    .dataframe tbody tr th:only-of-type {\n",
       "        vertical-align: middle;\n",
       "    }\n",
       "\n",
       "    .dataframe tbody tr th {\n",
       "        vertical-align: top;\n",
       "    }\n",
       "\n",
       "    .dataframe thead th {\n",
       "        text-align: right;\n",
       "    }\n",
       "</style>\n",
       "<table border=\"1\" class=\"dataframe\">\n",
       "  <thead>\n",
       "    <tr style=\"text-align: right;\">\n",
       "      <th></th>\n",
       "      <th>id</th>\n",
       "      <th>company</th>\n",
       "      <th>type</th>\n",
       "      <th>text</th>\n",
       "    </tr>\n",
       "  </thead>\n",
       "  <tbody>\n",
       "    <tr>\n",
       "      <th>0</th>\n",
       "      <td>2401</td>\n",
       "      <td>Borderlands</td>\n",
       "      <td>Positive</td>\n",
       "      <td>im getting on borderlands and i will murder yo...</td>\n",
       "    </tr>\n",
       "    <tr>\n",
       "      <th>1</th>\n",
       "      <td>2401</td>\n",
       "      <td>Borderlands</td>\n",
       "      <td>Positive</td>\n",
       "      <td>I am coming to the borders and I will kill you...</td>\n",
       "    </tr>\n",
       "    <tr>\n",
       "      <th>2</th>\n",
       "      <td>2401</td>\n",
       "      <td>Borderlands</td>\n",
       "      <td>Positive</td>\n",
       "      <td>im getting on borderlands and i will kill you ...</td>\n",
       "    </tr>\n",
       "    <tr>\n",
       "      <th>3</th>\n",
       "      <td>2401</td>\n",
       "      <td>Borderlands</td>\n",
       "      <td>Positive</td>\n",
       "      <td>im coming on borderlands and i will murder you...</td>\n",
       "    </tr>\n",
       "    <tr>\n",
       "      <th>4</th>\n",
       "      <td>2401</td>\n",
       "      <td>Borderlands</td>\n",
       "      <td>Positive</td>\n",
       "      <td>im getting on borderlands 2 and i will murder ...</td>\n",
       "    </tr>\n",
       "    <tr>\n",
       "      <th>...</th>\n",
       "      <td>...</td>\n",
       "      <td>...</td>\n",
       "      <td>...</td>\n",
       "      <td>...</td>\n",
       "    </tr>\n",
       "    <tr>\n",
       "      <th>74677</th>\n",
       "      <td>9200</td>\n",
       "      <td>Nvidia</td>\n",
       "      <td>Positive</td>\n",
       "      <td>Just realized that the Windows partition of my...</td>\n",
       "    </tr>\n",
       "    <tr>\n",
       "      <th>74678</th>\n",
       "      <td>9200</td>\n",
       "      <td>Nvidia</td>\n",
       "      <td>Positive</td>\n",
       "      <td>Just realized that my Mac window partition is ...</td>\n",
       "    </tr>\n",
       "    <tr>\n",
       "      <th>74679</th>\n",
       "      <td>9200</td>\n",
       "      <td>Nvidia</td>\n",
       "      <td>Positive</td>\n",
       "      <td>Just realized the windows partition of my Mac ...</td>\n",
       "    </tr>\n",
       "    <tr>\n",
       "      <th>74680</th>\n",
       "      <td>9200</td>\n",
       "      <td>Nvidia</td>\n",
       "      <td>Positive</td>\n",
       "      <td>Just realized between the windows partition of...</td>\n",
       "    </tr>\n",
       "    <tr>\n",
       "      <th>74681</th>\n",
       "      <td>9200</td>\n",
       "      <td>Nvidia</td>\n",
       "      <td>Positive</td>\n",
       "      <td>Just like the windows partition of my Mac is l...</td>\n",
       "    </tr>\n",
       "  </tbody>\n",
       "</table>\n",
       "<p>74682 rows × 4 columns</p>\n",
       "</div>"
      ],
      "text/plain": [
       "         id      company      type  \\\n",
       "0      2401  Borderlands  Positive   \n",
       "1      2401  Borderlands  Positive   \n",
       "2      2401  Borderlands  Positive   \n",
       "3      2401  Borderlands  Positive   \n",
       "4      2401  Borderlands  Positive   \n",
       "...     ...          ...       ...   \n",
       "74677  9200       Nvidia  Positive   \n",
       "74678  9200       Nvidia  Positive   \n",
       "74679  9200       Nvidia  Positive   \n",
       "74680  9200       Nvidia  Positive   \n",
       "74681  9200       Nvidia  Positive   \n",
       "\n",
       "                                                    text  \n",
       "0      im getting on borderlands and i will murder yo...  \n",
       "1      I am coming to the borders and I will kill you...  \n",
       "2      im getting on borderlands and i will kill you ...  \n",
       "3      im coming on borderlands and i will murder you...  \n",
       "4      im getting on borderlands 2 and i will murder ...  \n",
       "...                                                  ...  \n",
       "74677  Just realized that the Windows partition of my...  \n",
       "74678  Just realized that my Mac window partition is ...  \n",
       "74679  Just realized the windows partition of my Mac ...  \n",
       "74680  Just realized between the windows partition of...  \n",
       "74681  Just like the windows partition of my Mac is l...  \n",
       "\n",
       "[74682 rows x 4 columns]"
      ]
     },
     "execution_count": 4,
     "metadata": {},
     "output_type": "execute_result"
    }
   ],
   "source": [
    "train_data.columns = ['id', 'company', 'type', 'text']\n",
    "val_data.columns = ['id', 'information', 'type', 'text']\n",
    "train_data"
   ]
  },
  {
   "cell_type": "code",
   "execution_count": 5,
   "metadata": {},
   "outputs": [
    {
     "name": "stdout",
     "output_type": "stream",
     "text": [
      "(74682, 4)\n",
      "(1000, 4)\n"
     ]
    }
   ],
   "source": [
    "print(train_data.shape)\n",
    "print(val_data.shape)"
   ]
  },
  {
   "cell_type": "code",
   "execution_count": 6,
   "metadata": {},
   "outputs": [
    {
     "name": "stdout",
     "output_type": "stream",
     "text": [
      "id         0.000000\n",
      "company    0.000000\n",
      "type       0.000000\n",
      "text       0.009186\n",
      "dtype: float64\n",
      "id             0.0\n",
      "information    0.0\n",
      "type           0.0\n",
      "text           0.0\n",
      "dtype: float64\n"
     ]
    }
   ],
   "source": [
    "print(train_data.isnull().sum() / len(train_data))\n",
    "print(val_data.isnull().sum() / len(val_data))"
   ]
  },
  {
   "cell_type": "code",
   "execution_count": 7,
   "metadata": {},
   "outputs": [
    {
     "name": "stdout",
     "output_type": "stream",
     "text": [
      "0.036153289949385395\n",
      "0.0\n"
     ]
    }
   ],
   "source": [
    "print(train_data.duplicated().sum() / len(train_data))\n",
    "print(val_data.duplicated().sum() / len(val_data))"
   ]
  },
  {
   "cell_type": "code",
   "execution_count": 8,
   "metadata": {},
   "outputs": [
    {
     "data": {
      "text/plain": [
       "(71656, 4)"
      ]
     },
     "execution_count": 8,
     "metadata": {},
     "output_type": "execute_result"
    }
   ],
   "source": [
    "train_data.dropna(inplace=True)\n",
    "train_data.drop_duplicates(inplace=True)\n",
    "train_data.shape"
   ]
  },
  {
   "cell_type": "code",
   "execution_count": 9,
   "metadata": {},
   "outputs": [],
   "source": [
    "# Initialize constants\n",
    "URL_PATTERN = re.compile(r'https?://\\S+|www\\.\\S+')\n",
    "HTML_PATTERN = re.compile(r'<.*?>')\n",
    "\n",
    "# Chat word mappings\n",
    "CHAT_WORDS = {\n",
    "    'AFAIK': 'As Far As I Know', 'AFK': 'Away From Keyboard', 'ASAP': 'As Soon As Possible',\n",
    "    'ATK': 'At The Keyboard', 'ATM': 'At The Moment', 'A3': 'Anytime, Anywhere, Anyplace',\n",
    "    'BAK': 'Back At Keyboard', 'BBL': 'Be Back Later', 'BBS': 'Be Back Soon',\n",
    "    'BFN': 'Bye For Now', 'B4N': 'Bye For Now', 'BRB': 'Be Right Back',\n",
    "    'BRT': 'Be Right There', 'BTW': 'By The Way', 'B4': 'Before',\n",
    "    'CU': 'See You', 'CUL8R': 'See You Later', 'CYA': 'See You',\n",
    "    'FAQ': 'Frequently Asked Questions', 'FC': 'Fingers Crossed',\n",
    "    'FWIW': \"For What It's Worth\", 'FYI': 'For Your Information',\n",
    "    'GAL': 'Get A Life', 'GG': 'Good Game', 'GN': 'Good Night',\n",
    "    'GMTA': 'Great Minds Think Alike', 'GR8': 'Great!', 'G9': 'Genius',\n",
    "    'IC': 'I See', 'ICQ': 'I Seek you', 'ILU': 'I Love You',\n",
    "    'IMHO': 'In My Honest Opinion', 'IMO': 'In My Opinion',\n",
    "    'IOW': 'In Other Words', 'IRL': 'In Real Life',\n",
    "    'KISS': 'Keep It Simple', 'LDR': 'Long Distance Relationship',\n",
    "    'LMAO': 'Laugh My Off', 'LOL': 'Laughing Out Loud',\n",
    "    'LTNS': 'Long Time No See', 'L8R': 'Later',\n",
    "    'MTE': 'My Thoughts Exactly', 'M8': 'Mate',\n",
    "    'NRN': 'No Reply Necessary', 'OIC': 'Oh I See',\n",
    "    'PITA': 'Pain In The A', 'PRT': 'Party',\n",
    "    'PRW': 'Parents Are Watching', 'QPSA': 'Que Pasa',\n",
    "    'ROFL': 'Rolling On Floor Laughing', 'ROFLOL': 'Rolling On Floor Laughing Out Loud',\n",
    "    'SK8': 'Skate', 'THX': 'Thank You', 'TTFN': 'Ta-Ta For Now',\n",
    "    'TTYL': 'Talk To You Later', 'U': 'You', 'U2': 'You Too',\n",
    "    'U4E': 'Yours For Ever', 'WB': 'Welcome Back',\n",
    "    'WTF': 'What The F', 'WTG': 'Way To Go',\n",
    "    'WUF': 'Where Are You From', 'W8': 'Wait',\n",
    "    'TFW': 'That feeling when', 'MFW': 'My face when',\n",
    "    'MRW': 'My reaction when', 'IFYP': 'I feel your pain',\n",
    "    'TNTL': 'Trying not to laugh', 'JK': 'Just kidding',\n",
    "    'IDC': \"I don't care\", 'ILY': 'I love you',\n",
    "    'IMU': 'I miss you', 'ADIH': 'Another day in hell',\n",
    "    'ZZZ': 'Sleeping', 'WYWH': 'Wish you were here',\n",
    "    'TIME': 'Tears in my eyes', 'BAE': 'Before anyone else',\n",
    "    'FIMH': 'Forever in my heart', 'BSAAW': 'Big smile and a wink',\n",
    "    'BWL': 'Bursting with laughter', 'BFF': 'Best friends forever',\n",
    "    'CSL': \"Can't stop laughing\"\n",
    "}\n",
    "\n",
    "def preprocess_text(text):\n",
    "    \"\"\"\n",
    "    Comprehensive text preprocessing function that combines all steps\n",
    "    \"\"\"\n",
    "    if not isinstance(text, str) or not text.strip():\n",
    "        return \"\"\n",
    "    \n",
    "    # Convert to lowercase\n",
    "    text = text.lower()\n",
    "    \n",
    "    # Remove emojis using emoji package\n",
    "    text = emoji.replace_emoji(text, '')\n",
    "    \n",
    "    # Remove URLs and HTML\n",
    "    text = URL_PATTERN.sub('', text)\n",
    "    text = HTML_PATTERN.sub('', text)\n",
    "    \n",
    "    # Remove punctuation\n",
    "    text = text.translate(str.maketrans('', '', string.punctuation))\n",
    "    \n",
    "    # Split into words and process\n",
    "    words = text.split()\n",
    "    \n",
    "    # Convert chat words\n",
    "    processed_words = []\n",
    "    for word in words:\n",
    "        # Check for chat words\n",
    "        if word.upper() in CHAT_WORDS:\n",
    "            word_expanded = CHAT_WORDS[word.upper()]\n",
    "            # Add words from expanded chat words\n",
    "            processed_words.extend(word_expanded.lower().split())\n",
    "        else:\n",
    "            processed_words.append(word)\n",
    "    \n",
    "    return ' '.join(processed_words)\n",
    "\n",
    "# Apply preprocessing to both datasets\n",
    "train_data['cleaned'] = train_data['text'].apply(preprocess_text)\n",
    "val_data['cleaned'] = val_data['text'].apply(preprocess_text)"
   ]
  },
  {
   "cell_type": "code",
   "execution_count": 10,
   "metadata": {},
   "outputs": [],
   "source": [
    "# from autocorrect import Speller\n",
    "\n",
    "# spell = Speller(lang=\"en\")  # English spell checker\n",
    "\n",
    "# train_data['lower'] = train_data['lower'].apply(lambda text: spell(text))\n",
    "# val_data['lower'] = val_data['lower'].apply(lambda text: spell(text))"
   ]
  },
  {
   "cell_type": "code",
   "execution_count": 11,
   "metadata": {},
   "outputs": [],
   "source": [
    "# import spacy\n",
    "# nlp = spacy.load('en_core_web_sm')\n",
    "\n",
    "# def lemmatized(text):\n",
    "#   doc = nlp(text)\n",
    "#   return ' '.join([token.lemma_ for token in doc])\n",
    "\n",
    "# train_data['lower'] = train_data['lower'].apply(lambda text: lemmatized(text))\n",
    "# val_data['lower'] = val_data['lower'].apply(lambda text: lemmatized(text))"
   ]
  },
  {
   "cell_type": "code",
   "execution_count": 12,
   "metadata": {},
   "outputs": [
    {
     "data": {
      "text/html": [
       "<div>\n",
       "<style scoped>\n",
       "    .dataframe tbody tr th:only-of-type {\n",
       "        vertical-align: middle;\n",
       "    }\n",
       "\n",
       "    .dataframe tbody tr th {\n",
       "        vertical-align: top;\n",
       "    }\n",
       "\n",
       "    .dataframe thead th {\n",
       "        text-align: right;\n",
       "    }\n",
       "</style>\n",
       "<table border=\"1\" class=\"dataframe\">\n",
       "  <thead>\n",
       "    <tr style=\"text-align: right;\">\n",
       "      <th></th>\n",
       "      <th>id</th>\n",
       "      <th>company</th>\n",
       "      <th>type</th>\n",
       "      <th>text</th>\n",
       "      <th>cleaned</th>\n",
       "    </tr>\n",
       "  </thead>\n",
       "  <tbody>\n",
       "    <tr>\n",
       "      <th>0</th>\n",
       "      <td>2401</td>\n",
       "      <td>Borderlands</td>\n",
       "      <td>Positive</td>\n",
       "      <td>im getting on borderlands and i will murder you all ,</td>\n",
       "      <td>im getting on borderlands and i will murder you all</td>\n",
       "    </tr>\n",
       "    <tr>\n",
       "      <th>1</th>\n",
       "      <td>2401</td>\n",
       "      <td>Borderlands</td>\n",
       "      <td>Positive</td>\n",
       "      <td>I am coming to the borders and I will kill you all,</td>\n",
       "      <td>i am coming to the borders and i will kill you all</td>\n",
       "    </tr>\n",
       "    <tr>\n",
       "      <th>2</th>\n",
       "      <td>2401</td>\n",
       "      <td>Borderlands</td>\n",
       "      <td>Positive</td>\n",
       "      <td>im getting on borderlands and i will kill you all,</td>\n",
       "      <td>im getting on borderlands and i will kill you all</td>\n",
       "    </tr>\n",
       "    <tr>\n",
       "      <th>3</th>\n",
       "      <td>2401</td>\n",
       "      <td>Borderlands</td>\n",
       "      <td>Positive</td>\n",
       "      <td>im coming on borderlands and i will murder you all,</td>\n",
       "      <td>im coming on borderlands and i will murder you all</td>\n",
       "    </tr>\n",
       "    <tr>\n",
       "      <th>4</th>\n",
       "      <td>2401</td>\n",
       "      <td>Borderlands</td>\n",
       "      <td>Positive</td>\n",
       "      <td>im getting on borderlands 2 and i will murder you me all,</td>\n",
       "      <td>im getting on borderlands 2 and i will murder you me all</td>\n",
       "    </tr>\n",
       "    <tr>\n",
       "      <th>5</th>\n",
       "      <td>2401</td>\n",
       "      <td>Borderlands</td>\n",
       "      <td>Positive</td>\n",
       "      <td>im getting into borderlands and i can murder you all,</td>\n",
       "      <td>im getting into borderlands and i can murder you all</td>\n",
       "    </tr>\n",
       "    <tr>\n",
       "      <th>6</th>\n",
       "      <td>2402</td>\n",
       "      <td>Borderlands</td>\n",
       "      <td>Positive</td>\n",
       "      <td>So I spent a few hours making something for fun. . . If you don't know I am a HUGE @Borderlands fan and Maya is one of my favorite characters. So I decided to make myself a wallpaper for my PC. . Here is the original image versus the creation I made :) Enjoy! pic.twitter.com/mLsI5wf9Jg</td>\n",
       "      <td>so i spent a few hours making something for fun if you dont know i am a huge borderlands fan and maya is one of my favorite characters so i decided to make myself a wallpaper for my pc here is the original image versus the creation i made enjoy pictwittercommlsi5wf9jg</td>\n",
       "    </tr>\n",
       "    <tr>\n",
       "      <th>7</th>\n",
       "      <td>2402</td>\n",
       "      <td>Borderlands</td>\n",
       "      <td>Positive</td>\n",
       "      <td>So I spent a couple of hours doing something for fun... If you don't know that I'm a huge @ Borderlands fan and Maya is one of my favorite characters, I decided to make a wallpaper for my PC.. Here's the original picture compared to the creation I made:) Have fun! pic.twitter.com / mLsI5wf9Jg</td>\n",
       "      <td>so i spent a couple of hours doing something for fun if you dont know that im a huge borderlands fan and maya is one of my favorite characters i decided to make a wallpaper for my pc heres the original picture compared to the creation i made have fun pictwittercom mlsi5wf9jg</td>\n",
       "    </tr>\n",
       "    <tr>\n",
       "      <th>8</th>\n",
       "      <td>2402</td>\n",
       "      <td>Borderlands</td>\n",
       "      <td>Positive</td>\n",
       "      <td>So I spent a few hours doing something for fun... If you don't know I'm a HUGE @ Borderlands fan and Maya is one of my favorite characters.</td>\n",
       "      <td>so i spent a few hours doing something for fun if you dont know im a huge borderlands fan and maya is one of my favorite characters</td>\n",
       "    </tr>\n",
       "    <tr>\n",
       "      <th>9</th>\n",
       "      <td>2402</td>\n",
       "      <td>Borderlands</td>\n",
       "      <td>Positive</td>\n",
       "      <td>So I spent a few hours making something for fun. . . If you don't know I am a HUGE RhandlerR fan and Maya is one of my favorite characters. So I decided to make myself a wallpaper for my PC. . Here is the original image versus the creation I made :) Enjoy! pic.twitter.com/mLsI5wf9Jg</td>\n",
       "      <td>so i spent a few hours making something for fun if you dont know i am a huge rhandlerr fan and maya is one of my favorite characters so i decided to make myself a wallpaper for my pc here is the original image versus the creation i made enjoy pictwittercommlsi5wf9jg</td>\n",
       "    </tr>\n",
       "    <tr>\n",
       "      <th>10</th>\n",
       "      <td>2402</td>\n",
       "      <td>Borderlands</td>\n",
       "      <td>Positive</td>\n",
       "      <td>2010 So I spent a few hours making something for fun. . . If you don't know I am a HUGE RhandlerR fan and Maya is one of my favorite characters. So I decided to make myself a wallpaper for my PC. . Here is the original image versus the creation I made :) Enjoy! pic.twitter.com/mLsI5wf9Jg</td>\n",
       "      <td>2010 so i spent a few hours making something for fun if you dont know i am a huge rhandlerr fan and maya is one of my favorite characters so i decided to make myself a wallpaper for my pc here is the original image versus the creation i made enjoy pictwittercommlsi5wf9jg</td>\n",
       "    </tr>\n",
       "    <tr>\n",
       "      <th>11</th>\n",
       "      <td>2402</td>\n",
       "      <td>Borderlands</td>\n",
       "      <td>Positive</td>\n",
       "      <td>was</td>\n",
       "      <td>was</td>\n",
       "    </tr>\n",
       "    <tr>\n",
       "      <th>12</th>\n",
       "      <td>2403</td>\n",
       "      <td>Borderlands</td>\n",
       "      <td>Neutral</td>\n",
       "      <td>Rock-Hard La Varlope, RARE &amp; POWERFUL, HANDSOME JACKPOT, Borderlands 3 (Xbox) dlvr.it/RMTrgF</td>\n",
       "      <td>rockhard la varlope rare powerful handsome jackpot borderlands 3 xbox dlvritrmtrgf</td>\n",
       "    </tr>\n",
       "    <tr>\n",
       "      <th>13</th>\n",
       "      <td>2403</td>\n",
       "      <td>Borderlands</td>\n",
       "      <td>Neutral</td>\n",
       "      <td>Rock-Hard La Varlope, RARE &amp; POWERFUL, HANDSOME JACKPOT, Borderlands 3 (Xbox) dlvr.it / RMTrgF</td>\n",
       "      <td>rockhard la varlope rare powerful handsome jackpot borderlands 3 xbox dlvrit rmtrgf</td>\n",
       "    </tr>\n",
       "    <tr>\n",
       "      <th>14</th>\n",
       "      <td>2403</td>\n",
       "      <td>Borderlands</td>\n",
       "      <td>Neutral</td>\n",
       "      <td>Rock-Hard La Varlope, RARE &amp; POWERFUL, HANDSOME JACKPOT, Borderlands 3 (Xbox) dfr.it / RMTrgF</td>\n",
       "      <td>rockhard la varlope rare powerful handsome jackpot borderlands 3 xbox dfrit rmtrgf</td>\n",
       "    </tr>\n",
       "    <tr>\n",
       "      <th>15</th>\n",
       "      <td>2403</td>\n",
       "      <td>Borderlands</td>\n",
       "      <td>Neutral</td>\n",
       "      <td>Rock-Hard La Vita, RARE BUT POWERFUL, HANDSOME JACKPOT, Borderlands 1 (Xbox) dlvr.it/RMTrgF</td>\n",
       "      <td>rockhard la vita rare but powerful handsome jackpot borderlands 1 xbox dlvritrmtrgf</td>\n",
       "    </tr>\n",
       "    <tr>\n",
       "      <th>16</th>\n",
       "      <td>2403</td>\n",
       "      <td>Borderlands</td>\n",
       "      <td>Neutral</td>\n",
       "      <td>Live Rock - Hard music La la Varlope, RARE &amp; the POWERFUL, Live HANDSOME i JACKPOT, Borderlands 3 ( Sega Xbox ) dlvr. From it / e RMTrgF</td>\n",
       "      <td>live rock hard music la la varlope rare the powerful live handsome i jackpot borderlands 3 sega xbox dlvr from it e rmtrgf</td>\n",
       "    </tr>\n",
       "    <tr>\n",
       "      <th>17</th>\n",
       "      <td>2403</td>\n",
       "      <td>Borderlands</td>\n",
       "      <td>Neutral</td>\n",
       "      <td>I-Hard like me, RARE LONDON DE, HANDSOME 2011, Borderlands 3 (Xbox) dlvr.it/RMTrgF</td>\n",
       "      <td>ihard like me rare london de handsome 2011 borderlands 3 xbox dlvritrmtrgf</td>\n",
       "    </tr>\n",
       "    <tr>\n",
       "      <th>18</th>\n",
       "      <td>2404</td>\n",
       "      <td>Borderlands</td>\n",
       "      <td>Positive</td>\n",
       "      <td>that was the first borderlands session in a long time where i actually had a really satisfying combat experience. i got some really good kills</td>\n",
       "      <td>that was the first borderlands session in a long tears in my eyes where i actually had a really satisfying combat experience i got some really good kills</td>\n",
       "    </tr>\n",
       "    <tr>\n",
       "      <th>19</th>\n",
       "      <td>2404</td>\n",
       "      <td>Borderlands</td>\n",
       "      <td>Positive</td>\n",
       "      <td>this was the first Borderlands session in a long time where i actually had a really satisfying fighting experience. i got some really good kills</td>\n",
       "      <td>this was the first borderlands session in a long tears in my eyes where i actually had a really satisfying fighting experience i got some really good kills</td>\n",
       "    </tr>\n",
       "  </tbody>\n",
       "</table>\n",
       "</div>"
      ],
      "text/plain": [
       "      id      company      type                                                                                                                                                                                                                                                                                                   text                                                                                                                                                                                                                                                                              cleaned\n",
       "0   2401  Borderlands  Positive                                                                                                                                                                                                                                                  im getting on borderlands and i will murder you all ,                                                                                                                                                                                                                                  im getting on borderlands and i will murder you all\n",
       "1   2401  Borderlands  Positive                                                                                                                                                                                                                                                    I am coming to the borders and I will kill you all,                                                                                                                                                                                                                                   i am coming to the borders and i will kill you all\n",
       "2   2401  Borderlands  Positive                                                                                                                                                                                                                                                     im getting on borderlands and i will kill you all,                                                                                                                                                                                                                                    im getting on borderlands and i will kill you all\n",
       "3   2401  Borderlands  Positive                                                                                                                                                                                                                                                    im coming on borderlands and i will murder you all,                                                                                                                                                                                                                                   im coming on borderlands and i will murder you all\n",
       "4   2401  Borderlands  Positive                                                                                                                                                                                                                                              im getting on borderlands 2 and i will murder you me all,                                                                                                                                                                                                                             im getting on borderlands 2 and i will murder you me all\n",
       "5   2401  Borderlands  Positive                                                                                                                                                                                                                                                  im getting into borderlands and i can murder you all,                                                                                                                                                                                                                                 im getting into borderlands and i can murder you all\n",
       "6   2402  Borderlands  Positive         So I spent a few hours making something for fun. . . If you don't know I am a HUGE @Borderlands fan and Maya is one of my favorite characters. So I decided to make myself a wallpaper for my PC. . Here is the original image versus the creation I made :) Enjoy! pic.twitter.com/mLsI5wf9Jg         so i spent a few hours making something for fun if you dont know i am a huge borderlands fan and maya is one of my favorite characters so i decided to make myself a wallpaper for my pc here is the original image versus the creation i made enjoy pictwittercommlsi5wf9jg\n",
       "7   2402  Borderlands  Positive  So I spent a couple of hours doing something for fun... If you don't know that I'm a huge @ Borderlands fan and Maya is one of my favorite characters, I decided to make a wallpaper for my PC.. Here's the original picture compared to the creation I made:) Have fun! pic.twitter.com / mLsI5wf9Jg  so i spent a couple of hours doing something for fun if you dont know that im a huge borderlands fan and maya is one of my favorite characters i decided to make a wallpaper for my pc heres the original picture compared to the creation i made have fun pictwittercom mlsi5wf9jg\n",
       "8   2402  Borderlands  Positive                                                                                                                                                            So I spent a few hours doing something for fun... If you don't know I'm a HUGE @ Borderlands fan and Maya is one of my favorite characters.                                                                                                                                                  so i spent a few hours doing something for fun if you dont know im a huge borderlands fan and maya is one of my favorite characters\n",
       "9   2402  Borderlands  Positive            So I spent a few hours making something for fun. . . If you don't know I am a HUGE RhandlerR fan and Maya is one of my favorite characters. So I decided to make myself a wallpaper for my PC. . Here is the original image versus the creation I made :) Enjoy! pic.twitter.com/mLsI5wf9Jg           so i spent a few hours making something for fun if you dont know i am a huge rhandlerr fan and maya is one of my favorite characters so i decided to make myself a wallpaper for my pc here is the original image versus the creation i made enjoy pictwittercommlsi5wf9jg\n",
       "10  2402  Borderlands  Positive       2010 So I spent a few hours making something for fun. . . If you don't know I am a HUGE RhandlerR fan and Maya is one of my favorite characters. So I decided to make myself a wallpaper for my PC. . Here is the original image versus the creation I made :) Enjoy! pic.twitter.com/mLsI5wf9Jg      2010 so i spent a few hours making something for fun if you dont know i am a huge rhandlerr fan and maya is one of my favorite characters so i decided to make myself a wallpaper for my pc here is the original image versus the creation i made enjoy pictwittercommlsi5wf9jg\n",
       "11  2402  Borderlands  Positive                                                                                                                                                                                                                                                                                                    was                                                                                                                                                                                                                                                                                  was\n",
       "12  2403  Borderlands   Neutral                                                                                                                                                                                                         Rock-Hard La Varlope, RARE & POWERFUL, HANDSOME JACKPOT, Borderlands 3 (Xbox) dlvr.it/RMTrgF                                                                                                                                                                                                     rockhard la varlope rare powerful handsome jackpot borderlands 3 xbox dlvritrmtrgf\n",
       "13  2403  Borderlands   Neutral                                                                                                                                                                                                         Rock-Hard La Varlope, RARE & POWERFUL, HANDSOME JACKPOT, Borderlands 3 (Xbox) dlvr.it / RMTrgF                                                                                                                                                                                                  rockhard la varlope rare powerful handsome jackpot borderlands 3 xbox dlvrit rmtrgf\n",
       "14  2403  Borderlands   Neutral                                                                                                                                                                                                          Rock-Hard La Varlope, RARE & POWERFUL, HANDSOME JACKPOT, Borderlands 3 (Xbox) dfr.it / RMTrgF                                                                                                                                                                                                   rockhard la varlope rare powerful handsome jackpot borderlands 3 xbox dfrit rmtrgf\n",
       "15  2403  Borderlands   Neutral                                                                                                                                                                                                            Rock-Hard La Vita, RARE BUT POWERFUL, HANDSOME JACKPOT, Borderlands 1 (Xbox) dlvr.it/RMTrgF                                                                                                                                                                                                  rockhard la vita rare but powerful handsome jackpot borderlands 1 xbox dlvritrmtrgf\n",
       "16  2403  Borderlands   Neutral                                                                                                                                                               Live Rock - Hard music La la Varlope, RARE & the POWERFUL, Live HANDSOME i JACKPOT, Borderlands 3 ( Sega Xbox ) dlvr. From it / e RMTrgF                                                                                                                                                           live rock hard music la la varlope rare the powerful live handsome i jackpot borderlands 3 sega xbox dlvr from it e rmtrgf\n",
       "17  2403  Borderlands   Neutral                                                                                                                                                                                                                     I-Hard like me, RARE LONDON DE, HANDSOME 2011, Borderlands 3 (Xbox) dlvr.it/RMTrgF                                                                                                                                                                                                           ihard like me rare london de handsome 2011 borderlands 3 xbox dlvritrmtrgf\n",
       "18  2404  Borderlands  Positive                                                                                                                                                         that was the first borderlands session in a long time where i actually had a really satisfying combat experience. i got some really good kills                                                                                                                            that was the first borderlands session in a long tears in my eyes where i actually had a really satisfying combat experience i got some really good kills\n",
       "19  2404  Borderlands  Positive                                                                                                                                                       this was the first Borderlands session in a long time where i actually had a really satisfying fighting experience. i got some really good kills                                                                                                                          this was the first borderlands session in a long tears in my eyes where i actually had a really satisfying fighting experience i got some really good kills"
      ]
     },
     "execution_count": 12,
     "metadata": {},
     "output_type": "execute_result"
    }
   ],
   "source": [
    "pd.set_option('display.max_colwidth', None)\n",
    "pd.set_option('display.width', 1000)\n",
    "\n",
    "train_data.head(20)"
   ]
  },
  {
   "cell_type": "code",
   "execution_count": 13,
   "metadata": {},
   "outputs": [
    {
     "data": {
      "text/html": [
       "<div>\n",
       "<style scoped>\n",
       "    .dataframe tbody tr th:only-of-type {\n",
       "        vertical-align: middle;\n",
       "    }\n",
       "\n",
       "    .dataframe tbody tr th {\n",
       "        vertical-align: top;\n",
       "    }\n",
       "\n",
       "    .dataframe thead th {\n",
       "        text-align: right;\n",
       "    }\n",
       "</style>\n",
       "<table border=\"1\" class=\"dataframe\">\n",
       "  <thead>\n",
       "    <tr style=\"text-align: right;\">\n",
       "      <th></th>\n",
       "      <th>id</th>\n",
       "      <th>information</th>\n",
       "      <th>type</th>\n",
       "      <th>text</th>\n",
       "      <th>cleaned</th>\n",
       "    </tr>\n",
       "  </thead>\n",
       "  <tbody>\n",
       "    <tr>\n",
       "      <th>0</th>\n",
       "      <td>3364</td>\n",
       "      <td>Facebook</td>\n",
       "      <td>Irrelevant</td>\n",
       "      <td>I mentioned on Facebook that I was struggling for motivation to go for a run the other day, which has been translated by Tom’s great auntie as ‘Hayley can’t get out of bed’ and told to his grandma, who now thinks I’m a lazy, terrible person 🤣</td>\n",
       "      <td>i mentioned on facebook that i was struggling for motivation to go for a run the other day which has been translated by tom’s great auntie as ‘hayley can’t get out of bed’ and told to his grandma who now thinks i’m a lazy terrible person</td>\n",
       "    </tr>\n",
       "    <tr>\n",
       "      <th>1</th>\n",
       "      <td>352</td>\n",
       "      <td>Amazon</td>\n",
       "      <td>Neutral</td>\n",
       "      <td>BBC News - Amazon boss Jeff Bezos rejects claims company acted like a 'drug dealer' bbc.co.uk/news/av/busine…</td>\n",
       "      <td>bbc news amazon boss jeff bezos rejects claims company acted like a drug dealer bbccouknewsavbusine…</td>\n",
       "    </tr>\n",
       "    <tr>\n",
       "      <th>2</th>\n",
       "      <td>8312</td>\n",
       "      <td>Microsoft</td>\n",
       "      <td>Negative</td>\n",
       "      <td>@Microsoft Why do I pay for WORD when it functions so poorly on my @SamsungUS Chromebook? 🙄</td>\n",
       "      <td>microsoft why do i pay for word when it functions so poorly on my samsungus chromebook</td>\n",
       "    </tr>\n",
       "    <tr>\n",
       "      <th>3</th>\n",
       "      <td>4371</td>\n",
       "      <td>CS-GO</td>\n",
       "      <td>Negative</td>\n",
       "      <td>CSGO matchmaking is so full of closet hacking, it's a truly awful game.</td>\n",
       "      <td>csgo matchmaking is so full of closet hacking its a truly awful game</td>\n",
       "    </tr>\n",
       "    <tr>\n",
       "      <th>4</th>\n",
       "      <td>4433</td>\n",
       "      <td>Google</td>\n",
       "      <td>Neutral</td>\n",
       "      <td>Now the President is slapping Americans in the face that he really did commit an unlawful act after his  acquittal! From Discover on Google vanityfair.com/news/2020/02/t…</td>\n",
       "      <td>now the president is slapping americans in the face that he really did commit an unlawful act after his acquittal from discover on google vanityfaircomnews202002t…</td>\n",
       "    </tr>\n",
       "    <tr>\n",
       "      <th>5</th>\n",
       "      <td>6273</td>\n",
       "      <td>FIFA</td>\n",
       "      <td>Negative</td>\n",
       "      <td>Hi @EAHelp I’ve had Madeleine McCann in my cellar for the past 13 years and the little sneaky thing just escaped whilst I was loading up some fifa points, she took my card and I’m having to use my paypal account but it isn’t working, can you help me resolve it please?</td>\n",
       "      <td>hi eahelp i’ve had madeleine mccann in my cellar for the past 13 years and the little sneaky thing just escaped whilst i was loading up some fifa points she took my card and i’m having to use my paypal account but it isn’t working can you help me resolve it please</td>\n",
       "    </tr>\n",
       "    <tr>\n",
       "      <th>6</th>\n",
       "      <td>7925</td>\n",
       "      <td>MaddenNFL</td>\n",
       "      <td>Positive</td>\n",
       "      <td>Thank you @EAMaddenNFL!! \\n\\nNew TE Austin Hooper in the ORANGE &amp; BROWN!! \\n\\n#Browns | @AustinHooper18 \\n\\n pic.twitter.com/GRg4xzFKOn</td>\n",
       "      <td>thank you eamaddennfl new te austin hooper in the orange brown browns austinhooper18 pictwittercomgrg4xzfkon</td>\n",
       "    </tr>\n",
       "    <tr>\n",
       "      <th>7</th>\n",
       "      <td>11332</td>\n",
       "      <td>TomClancysRainbowSix</td>\n",
       "      <td>Positive</td>\n",
       "      <td>Rocket League, Sea of Thieves or Rainbow Six: Siege🤔? I love playing all three on stream but which is the best? #stream #twitch #RocketLeague #SeaOfThieves #RainbowSixSiege #follow</td>\n",
       "      <td>rocket league sea of thieves or rainbow six siege i love playing all three on stream but which is the best stream twitch rocketleague seaofthieves rainbowsixsiege follow</td>\n",
       "    </tr>\n",
       "    <tr>\n",
       "      <th>8</th>\n",
       "      <td>1107</td>\n",
       "      <td>AssassinsCreed</td>\n",
       "      <td>Positive</td>\n",
       "      <td>my ass still knee-deep in Assassins Creed Odyssey with no way out anytime soon lmao</td>\n",
       "      <td>my ass still kneedeep in assassins creed odyssey with no way out anytime soon laugh my off</td>\n",
       "    </tr>\n",
       "    <tr>\n",
       "      <th>9</th>\n",
       "      <td>2069</td>\n",
       "      <td>CallOfDuty</td>\n",
       "      <td>Negative</td>\n",
       "      <td>FIX IT JESUS ! Please FIX IT ! What In the world is going on here.  @PlayStation @AskPlayStation @Playstationsup @Treyarch @CallofDuty negative 345 silver wolf error code pic.twitter.com/ziRyhrf59Q</td>\n",
       "      <td>fix it jesus please fix it what in the world is going on here playstation askplaystation playstationsup treyarch callofduty negative 345 silver wolf error code pictwittercomziryhrf59q</td>\n",
       "    </tr>\n",
       "    <tr>\n",
       "      <th>10</th>\n",
       "      <td>3185</td>\n",
       "      <td>Dota2</td>\n",
       "      <td>Positive</td>\n",
       "      <td>The professional dota 2 scene is fucking exploding and I completely welcome it.\\n\\nGet the garbage out.</td>\n",
       "      <td>the professional dota 2 scene is fucking exploding and i completely welcome it get the garbage out</td>\n",
       "    </tr>\n",
       "    <tr>\n",
       "      <th>11</th>\n",
       "      <td>1172</td>\n",
       "      <td>AssassinsCreed</td>\n",
       "      <td>Positive</td>\n",
       "      <td>Itching to assassinate \\n\\n#TCCGif #AssassinsCreedBlackFlag #AssassinsCreed #TheCapturedCollective pic.twitter.com/vv8MOGtCjw</td>\n",
       "      <td>itching to assassinate tccgif assassinscreedblackflag assassinscreed thecapturedcollective pictwittercomvv8mogtcjw</td>\n",
       "    </tr>\n",
       "    <tr>\n",
       "      <th>12</th>\n",
       "      <td>11783</td>\n",
       "      <td>Verizon</td>\n",
       "      <td>Negative</td>\n",
       "      <td>@FredTJoseph hey fred, Comcast cut the cable and now Verizon stays calling me to shut that too pic.twitter.com/CPWSrmueDg</td>\n",
       "      <td>fredtjoseph hey fred comcast cut the cable and now verizon stays calling me to shut that too pictwittercomcpwsrmuedg</td>\n",
       "    </tr>\n",
       "    <tr>\n",
       "      <th>13</th>\n",
       "      <td>4286</td>\n",
       "      <td>CS-GO</td>\n",
       "      <td>Neutral</td>\n",
       "      <td>CSGO WIngman (Im Silver dont bully) twitch.tv/lprezh</td>\n",
       "      <td>csgo wingman im silver dont bully twitchtvlprezh</td>\n",
       "    </tr>\n",
       "    <tr>\n",
       "      <th>14</th>\n",
       "      <td>8431</td>\n",
       "      <td>NBA2K</td>\n",
       "      <td>Negative</td>\n",
       "      <td>@NBA2K game sucks... down by 2 with 38 seconds left and my team intentionally fouls</td>\n",
       "      <td>nba2k game sucks down by 2 with 38 seconds left and my team intentionally fouls</td>\n",
       "    </tr>\n",
       "    <tr>\n",
       "      <th>15</th>\n",
       "      <td>9135</td>\n",
       "      <td>Nvidia</td>\n",
       "      <td>Positive</td>\n",
       "      <td>Congrats to the NVIDIA NeMo team for the 1.0.0 release candidate!\\nReally excited to see NeMo embracing Hydra as the way to take control over the configuration madness that is machine learning! :)</td>\n",
       "      <td>congrats to the nvidia nemo team for the 100 release candidate really excited to see nemo embracing hydra as the way to take control over the configuration madness that is machine learning</td>\n",
       "    </tr>\n",
       "    <tr>\n",
       "      <th>16</th>\n",
       "      <td>4822</td>\n",
       "      <td>GrandTheftAuto(GTA)</td>\n",
       "      <td>Positive</td>\n",
       "      <td>yeah and it’s fun</td>\n",
       "      <td>yeah and it’s fun</td>\n",
       "    </tr>\n",
       "    <tr>\n",
       "      <th>17</th>\n",
       "      <td>3068</td>\n",
       "      <td>Dota2</td>\n",
       "      <td>Negative</td>\n",
       "      <td>fuck my life 😆</td>\n",
       "      <td>fuck my life</td>\n",
       "    </tr>\n",
       "    <tr>\n",
       "      <th>18</th>\n",
       "      <td>10537</td>\n",
       "      <td>RedDeadRedemption(RDR)</td>\n",
       "      <td>Positive</td>\n",
       "      <td>happy birthday red dead redemption that shit changed my life what a crazy experience</td>\n",
       "      <td>happy birthday red dead redemption that shit changed my life what a crazy experience</td>\n",
       "    </tr>\n",
       "    <tr>\n",
       "      <th>19</th>\n",
       "      <td>8056</td>\n",
       "      <td>Microsoft</td>\n",
       "      <td>Negative</td>\n",
       "      <td>What does that say about Microsoft hardware &amp; software security - The Man gets hacked</td>\n",
       "      <td>what does that say about microsoft hardware software security the man gets hacked</td>\n",
       "    </tr>\n",
       "  </tbody>\n",
       "</table>\n",
       "</div>"
      ],
      "text/plain": [
       "       id             information        type                                                                                                                                                                                                                                                                          text                                                                                                                                                                                                                                                                   cleaned\n",
       "0    3364                Facebook  Irrelevant                            I mentioned on Facebook that I was struggling for motivation to go for a run the other day, which has been translated by Tom’s great auntie as ‘Hayley can’t get out of bed’ and told to his grandma, who now thinks I’m a lazy, terrible person 🤣                             i mentioned on facebook that i was struggling for motivation to go for a run the other day which has been translated by tom’s great auntie as ‘hayley can’t get out of bed’ and told to his grandma who now thinks i’m a lazy terrible person\n",
       "1     352                  Amazon     Neutral                                                                                                                                                                 BBC News - Amazon boss Jeff Bezos rejects claims company acted like a 'drug dealer' bbc.co.uk/news/av/busine…                                                                                                                                                                      bbc news amazon boss jeff bezos rejects claims company acted like a drug dealer bbccouknewsavbusine…\n",
       "2    8312               Microsoft    Negative                                                                                                                                                                                   @Microsoft Why do I pay for WORD when it functions so poorly on my @SamsungUS Chromebook? 🙄                                                                                                                                                                                    microsoft why do i pay for word when it functions so poorly on my samsungus chromebook\n",
       "3    4371                   CS-GO    Negative                                                                                                                                                                                                       CSGO matchmaking is so full of closet hacking, it's a truly awful game.                                                                                                                                                                                                      csgo matchmaking is so full of closet hacking its a truly awful game\n",
       "4    4433                  Google     Neutral                                                                                                    Now the President is slapping Americans in the face that he really did commit an unlawful act after his  acquittal! From Discover on Google vanityfair.com/news/2020/02/t…                                                                                                       now the president is slapping americans in the face that he really did commit an unlawful act after his acquittal from discover on google vanityfaircomnews202002t…\n",
       "5    6273                    FIFA    Negative  Hi @EAHelp I’ve had Madeleine McCann in my cellar for the past 13 years and the little sneaky thing just escaped whilst I was loading up some fifa points, she took my card and I’m having to use my paypal account but it isn’t working, can you help me resolve it please?  hi eahelp i’ve had madeleine mccann in my cellar for the past 13 years and the little sneaky thing just escaped whilst i was loading up some fifa points she took my card and i’m having to use my paypal account but it isn’t working can you help me resolve it please\n",
       "6    7925               MaddenNFL    Positive                                                                                                                                       Thank you @EAMaddenNFL!! \\n\\nNew TE Austin Hooper in the ORANGE & BROWN!! \\n\\n#Browns | @AustinHooper18 \\n\\n pic.twitter.com/GRg4xzFKOn                                                                                                                                                              thank you eamaddennfl new te austin hooper in the orange brown browns austinhooper18 pictwittercomgrg4xzfkon\n",
       "7   11332    TomClancysRainbowSix    Positive                                                                                          Rocket League, Sea of Thieves or Rainbow Six: Siege🤔? I love playing all three on stream but which is the best? #stream #twitch #RocketLeague #SeaOfThieves #RainbowSixSiege #follow                                                                                                 rocket league sea of thieves or rainbow six siege i love playing all three on stream but which is the best stream twitch rocketleague seaofthieves rainbowsixsiege follow\n",
       "8    1107          AssassinsCreed    Positive                                                                                                                                                                                           my ass still knee-deep in Assassins Creed Odyssey with no way out anytime soon lmao                                                                                                                                                                                my ass still kneedeep in assassins creed odyssey with no way out anytime soon laugh my off\n",
       "9    2069              CallOfDuty    Negative                                                                         FIX IT JESUS ! Please FIX IT ! What In the world is going on here.  @PlayStation @AskPlayStation @Playstationsup @Treyarch @CallofDuty negative 345 silver wolf error code pic.twitter.com/ziRyhrf59Q                                                                                   fix it jesus please fix it what in the world is going on here playstation askplaystation playstationsup treyarch callofduty negative 345 silver wolf error code pictwittercomziryhrf59q\n",
       "10   3185                   Dota2    Positive                                                                                                                                                                       The professional dota 2 scene is fucking exploding and I completely welcome it.\\n\\nGet the garbage out.                                                                                                                                                                        the professional dota 2 scene is fucking exploding and i completely welcome it get the garbage out\n",
       "11   1172          AssassinsCreed    Positive                                                                                                                                                 Itching to assassinate \\n\\n#TCCGif #AssassinsCreedBlackFlag #AssassinsCreed #TheCapturedCollective pic.twitter.com/vv8MOGtCjw                                                                                                                                                        itching to assassinate tccgif assassinscreedblackflag assassinscreed thecapturedcollective pictwittercomvv8mogtcjw\n",
       "12  11783                 Verizon    Negative                                                                                                                                                     @FredTJoseph hey fred, Comcast cut the cable and now Verizon stays calling me to shut that too pic.twitter.com/CPWSrmueDg                                                                                                                                                      fredtjoseph hey fred comcast cut the cable and now verizon stays calling me to shut that too pictwittercomcpwsrmuedg\n",
       "13   4286                   CS-GO     Neutral                                                                                                                                                                                                                          CSGO WIngman (Im Silver dont bully) twitch.tv/lprezh                                                                                                                                                                                                                          csgo wingman im silver dont bully twitchtvlprezh\n",
       "14   8431                   NBA2K    Negative                                                                                                                                                                                           @NBA2K game sucks... down by 2 with 38 seconds left and my team intentionally fouls                                                                                                                                                                                           nba2k game sucks down by 2 with 38 seconds left and my team intentionally fouls\n",
       "15   9135                  Nvidia    Positive                                                                          Congrats to the NVIDIA NeMo team for the 1.0.0 release candidate!\\nReally excited to see NeMo embracing Hydra as the way to take control over the configuration madness that is machine learning! :)                                                                              congrats to the nvidia nemo team for the 100 release candidate really excited to see nemo embracing hydra as the way to take control over the configuration madness that is machine learning\n",
       "16   4822     GrandTheftAuto(GTA)    Positive                                                                                                                                                                                                                                                             yeah and it’s fun                                                                                                                                                                                                                                                         yeah and it’s fun\n",
       "17   3068                   Dota2    Negative                                                                                                                                                                                                                                                                fuck my life 😆                                                                                                                                                                                                                                                              fuck my life\n",
       "18  10537  RedDeadRedemption(RDR)    Positive                                                                                                                                                                                          happy birthday red dead redemption that shit changed my life what a crazy experience                                                                                                                                                                                      happy birthday red dead redemption that shit changed my life what a crazy experience\n",
       "19   8056               Microsoft    Negative                                                                                                                                                                                         What does that say about Microsoft hardware & software security - The Man gets hacked                                                                                                                                                                                         what does that say about microsoft hardware software security the man gets hacked"
      ]
     },
     "execution_count": 13,
     "metadata": {},
     "output_type": "execute_result"
    }
   ],
   "source": [
    "pd.set_option('display.max_colwidth', None)\n",
    "pd.set_option('display.width', 1000)\n",
    "\n",
    "val_data.head(20)"
   ]
  },
  {
   "cell_type": "code",
   "execution_count": 14,
   "metadata": {},
   "outputs": [],
   "source": [
    "train_data['type'] = train_data['type'].replace('Irrelevant', 'Neutral')\n",
    "val_data['type'] = val_data['type'].replace('Irrelevant', 'Neutral')"
   ]
  },
  {
   "cell_type": "code",
   "execution_count": 15,
   "metadata": {},
   "outputs": [
    {
     "data": {
      "text/plain": [
       "type\n",
       "Neutral     0.422086\n",
       "Negative    0.302808\n",
       "Positive    0.275106\n",
       "Name: count, dtype: float64"
      ]
     },
     "execution_count": 15,
     "metadata": {},
     "output_type": "execute_result"
    }
   ],
   "source": [
    "train_data['type'].value_counts() / len(train_data)"
   ]
  },
  {
   "cell_type": "code",
   "execution_count": 16,
   "metadata": {},
   "outputs": [
    {
     "name": "stdout",
     "output_type": "stream",
     "text": [
      "40119\n"
     ]
    }
   ],
   "source": [
    "tokens_text = [word_tokenize((word)) for word in train_data['cleaned']]\n",
    "tokens_counter = [item for sublist in tokens_text for item in sublist]\n",
    "\n",
    "print(len(set(tokens_counter)))"
   ]
  },
  {
   "cell_type": "code",
   "execution_count": 19,
   "metadata": {},
   "outputs": [
    {
     "name": "stderr",
     "output_type": "stream",
     "text": [
      "c:\\Users\\ASUS\\anaconda3\\Lib\\site-packages\\sklearn\\feature_extraction\\text.py:521: UserWarning: The parameter 'token_pattern' will not be used since 'tokenizer' is not None'\n",
      "  warnings.warn(\n"
     ]
    }
   ],
   "source": [
    "reviews_train, reviews_test = train_test_split(train_data, test_size=0.2, shuffle=True, random_state=0, stratify=train_data['type'])\n",
    "\n",
    "bow_count = CountVectorizer(tokenizer=word_tokenize, ngram_range=(1, 1))\n",
    "\n",
    "X_train_bow = bow_count.fit_transform(reviews_train['cleaned'])\n",
    "X_test_bow = bow_count.transform(reviews_test['cleaned'])\n",
    "X_val_bow = bow_count.transform(val_data['cleaned'])\n",
    "\n",
    "y_train = reviews_train['type']\n",
    "y_test = reviews_test['type']\n",
    "y_val = val_data['type']\n",
    "\n",
    "smote = SMOTE(random_state=4, sampling_strategy='not majority')\n",
    "X_train_sm, y_train_sm = smote.fit_resample(X_train_bow, y_train)"
   ]
  },
  {
   "cell_type": "code",
   "execution_count": 26,
   "metadata": {},
   "outputs": [
    {
     "name": "stderr",
     "output_type": "stream",
     "text": [
      "c:\\Users\\ASUS\\anaconda3\\Lib\\site-packages\\sklearn\\feature_extraction\\text.py:521: UserWarning: The parameter 'token_pattern' will not be used since 'tokenizer' is not None'\n",
      "  warnings.warn(\n"
     ]
    }
   ],
   "source": [
    "bow_count = CountVectorizer(\n",
    "    tokenizer=word_tokenize,\n",
    "    ngram_range=(1, 4)\n",
    ")\n",
    "\n",
    "X_train_bow = bow_count.fit_transform(reviews_train['cleaned'])\n",
    "X_test_bow = bow_count.transform(reviews_test['cleaned'])\n",
    "X_val_bow = bow_count.transform(val_data['cleaned'])\n",
    "\n",
    "y_train = reviews_train['type']\n",
    "y_test = reviews_test['type']\n",
    "y_val = val_data['type']\n",
    "\n",
    "le = LabelEncoder()\n",
    "y_train_enc = le.fit_transform(y_train)\n",
    "y_test_enc = le.transform(y_test)\n",
    "y_val_enc = le.transform(y_val)\n",
    "\n",
    "smote = SMOTE(random_state=4, sampling_strategy='not majority')\n",
    "X_train_sm, y_train_sm = smote.fit_resample(X_train_bow, y_train_enc)"
   ]
  },
  {
   "cell_type": "code",
   "execution_count": 27,
   "metadata": {},
   "outputs": [
    {
     "data": {
      "text/plain": [
       "89.55484231091265"
      ]
     },
     "execution_count": 27,
     "metadata": {},
     "output_type": "execute_result"
    }
   ],
   "source": [
    "model1 = LogisticRegression(C=1, solver=\"liblinear\", max_iter=200)\n",
    "model1.fit(X_train_sm, y_train_sm)\n",
    "\n",
    "test_pred = model1.predict(X_test_bow)\n",
    "accuracy_score(y_test_enc, test_pred) * 100"
   ]
  },
  {
   "cell_type": "code",
   "execution_count": 28,
   "metadata": {},
   "outputs": [
    {
     "data": {
      "text/plain": [
       "98.3"
      ]
     },
     "execution_count": 28,
     "metadata": {},
     "output_type": "execute_result"
    }
   ],
   "source": [
    "val_pred = model1.predict(X_val_bow)\n",
    "accuracy_score(y_val_enc, val_pred) * 100"
   ]
  },
  {
   "cell_type": "code",
   "execution_count": 38,
   "metadata": {},
   "outputs": [
    {
     "name": "stderr",
     "output_type": "stream",
     "text": [
      "c:\\Users\\ASUS\\anaconda3\\Lib\\site-packages\\sklearn\\feature_extraction\\text.py:521: UserWarning: The parameter 'token_pattern' will not be used since 'tokenizer' is not None'\n",
      "  warnings.warn(\n"
     ]
    }
   ],
   "source": [
    "bow_count = CountVectorizer(\n",
    "    tokenizer=word_tokenize,\n",
    "    ngram_range=(1, 4)\n",
    ")\n",
    "\n",
    "X_train_bow = bow_count.fit_transform(reviews_train['cleaned'])\n",
    "X_test_bow = bow_count.transform(reviews_test['cleaned'])\n",
    "X_val_bow = bow_count.transform(val_data['cleaned'])"
   ]
  },
  {
   "cell_type": "code",
   "execution_count": 99,
   "metadata": {},
   "outputs": [
    {
     "name": "stderr",
     "output_type": "stream",
     "text": [
      "c:\\Users\\ASUS\\anaconda3\\Lib\\site-packages\\sklearn\\feature_extraction\\text.py:521: UserWarning: The parameter 'token_pattern' will not be used since 'tokenizer' is not None'\n",
      "  warnings.warn(\n"
     ]
    }
   ],
   "source": [
    "bow_count = CountVectorizer(\n",
    "    tokenizer=word_tokenize,\n",
    "    ngram_range=(1, 4)\n",
    ")\n",
    "\n",
    "X_train_bow = bow_count.fit_transform(reviews_train['cleaned'])\n",
    "X_test_bow = bow_count.transform(reviews_test['cleaned'])\n",
    "X_val_bow = bow_count.transform(val_data['cleaned'])\n",
    "\n",
    "y_train = reviews_train['type']\n",
    "y_test = reviews_test['type']\n",
    "y_val = val_data['type']\n",
    "\n",
    "smote = SMOTE(random_state=4, sampling_strategy='not majority')\n",
    "X_train_sm, y_train_sm = smote.fit_resample(X_train_bow, y_train)"
   ]
  },
  {
   "cell_type": "code",
   "execution_count": 23,
   "metadata": {},
   "outputs": [],
   "source": [
    "bow_count = CountVectorizer(\n",
    "    tokenizer=word_tokenize,\n",
    "    ngram_range=(1, 4)\n",
    ")\n",
    "\n",
    "X_train_bow = bow_count.fit_transform(reviews_train['cleaned'])\n",
    "X_test_bow = bow_count.transform(reviews_test['cleaned'])\n",
    "X_val_bow = bow_count.transform(val_data['cleaned'])\n",
    "\n",
    "y_train = reviews_train['type']\n",
    "y_test = reviews_test['type']\n",
    "y_val = val_data['type']\n",
    "\n",
    "le = LabelEncoder()\n",
    "y_train_enc = le.fit_transform(y_train)\n",
    "y_test_enc = le.transform(y_test)\n",
    "y_val_enc = le.transform(y_val)\n",
    "\n",
    "smote = SMOTE(random_state=4, sampling_strategy='not majority')\n",
    "X_train_sm, y_train_sm = smote.fit_resample(X_train_bow, y_train_enc)"
   ]
  },
  {
   "cell_type": "code",
   "execution_count": 100,
   "metadata": {},
   "outputs": [
    {
     "data": {
      "text/plain": [
       "89.52693273792912"
      ]
     },
     "execution_count": 100,
     "metadata": {},
     "output_type": "execute_result"
    }
   ],
   "source": [
    "model2 = LogisticRegression(C=0.9, solver=\"liblinear\",max_iter=1500)\n",
    "model2.fit(X_train_sm, y_train_sm)\n",
    "test_pred_2 = model2.predict(X_test_bow)\n",
    "accuracy_score(y_test, test_pred_2) * 100"
   ]
  },
  {
   "cell_type": "code",
   "execution_count": 101,
   "metadata": {},
   "outputs": [
    {
     "data": {
      "text/plain": [
       "98.1"
      ]
     },
     "execution_count": 101,
     "metadata": {},
     "output_type": "execute_result"
    }
   ],
   "source": [
    "val_pred_2 = model2.predict(X_val_bow)\n",
    "accuracy_score(y_val, val_pred_2) * 100"
   ]
  },
  {
   "cell_type": "code",
   "execution_count": null,
   "metadata": {},
   "outputs": [],
   "source": [
    "model3 = LinearSVC(C=10, max_iter=2000, dual=False, loss='squared_hinge')\n",
    "model3.fit(X_train_sm, y_train_sm)\n",
    "test_pred_3 = model3.predict(X_test_bow)\n",
    "accuracy_score(y_test_enc, test_pred_3) * 100"
   ]
  },
  {
   "cell_type": "code",
   "execution_count": null,
   "metadata": {},
   "outputs": [
    {
     "data": {
      "text/plain": [
       "95.6"
      ]
     },
     "execution_count": 21,
     "metadata": {},
     "output_type": "execute_result"
    }
   ],
   "source": [
    "val_pred_3 = model3.predict(X_val_bow)\n",
    "accuracy_score(y_val_enc, val_pred_3) * 100"
   ]
  }
 ],
 "metadata": {
  "kernelspec": {
   "display_name": "base",
   "language": "python",
   "name": "python3"
  },
  "language_info": {
   "codemirror_mode": {
    "name": "ipython",
    "version": 3
   },
   "file_extension": ".py",
   "mimetype": "text/x-python",
   "name": "python",
   "nbconvert_exporter": "python",
   "pygments_lexer": "ipython3",
   "version": "3.12.7"
  }
 },
 "nbformat": 4,
 "nbformat_minor": 2
}
